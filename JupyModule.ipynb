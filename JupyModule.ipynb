{
 "metadata": {
  "language_info": {
   "codemirror_mode": {
    "name": "ipython",
    "version": 3
   },
   "file_extension": ".py",
   "mimetype": "text/x-python",
   "name": "python",
   "nbconvert_exporter": "python",
   "pygments_lexer": "ipython3",
   "version": "3.9.1-final"
  },
  "orig_nbformat": 2,
  "kernelspec": {
   "name": "python3",
   "display_name": "Python 3.9.1 64-bit",
   "metadata": {
    "interpreter": {
     "hash": "2647ea34e536f865ab67ff9ddee7fd78773d956cec0cab53c79b32cd10da5d83"
    }
   }
  }
 },
 "nbformat": 4,
 "nbformat_minor": 2,
 "cells": [
  {
   "source": [
    "import TableTypes as TT\n",
    "import math\n",
    "import dataclasses as DC\n",
    "import jupyter as JP\n",
    "import EfficiencyAlgorithms as EA\n",
    "import matplotlib as mpl\n",
    "import numpy as np\n",
    "\n",
    "\n",
    "#imports"
   ],
   "cell_type": "code",
   "metadata": {},
   "execution_count": 2,
   "outputs": [
    {
     "output_type": "stream",
     "name": "stdout",
     "text": [
      "The given table: \nL0 |   200   50  \nL1 |   300   70  \nL2 |   600  100  \nL3 |  2000  500  \nL4 |  2500  650  \nL5 |  4000  900  \n\nThe Λ maximal coeficients and equal digit coeficients: \n⌈  100  ⌉\n∣  66  ∣  \n∣  33  ∣  \n∣  10  ∣  \n∣  8  ∣  \n⌊  5  ⌋\n\n⌈  2  ⌉\n∣  2  ∣  \n∣  2  ∣  \n∣  2  ∣  \n∣  2  ∣  \n⌊  2  ⌋\nrespectively.\nThe maximal profitable single coeficient: \n⌈  0  ⌉\n∣  0  ∣  \n∣  0  ∣  \n∣  0  ∣  \n∣  8  ∣  \n⌊  0  ⌋\n\n[  200    300  600  2000  2500  4000  ]\n\n"
     ]
    }
   ]
  },
  {
   "cell_type": "code",
   "execution_count": 11,
   "metadata": {},
   "outputs": [],
   "source": [
    "tbl = TT.BinaryTable([200, 50, 300, 70, 600, 100, 1000, 500, 2500, 650, 4000, 900])\n",
    "Depository = EA.BinaryAlgorithms(4000, tbl)\n",
    "\n"
   ]
  },
  {
   "cell_type": "code",
   "execution_count": null,
   "metadata": {},
   "outputs": [],
   "source": []
  }
 ]
}