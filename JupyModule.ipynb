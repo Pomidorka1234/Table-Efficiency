{
 "metadata": {
  "language_info": {
   "codemirror_mode": {
    "name": "ipython",
    "version": 3
   },
   "file_extension": ".py",
   "mimetype": "text/x-python",
   "name": "python",
   "nbconvert_exporter": "python",
   "pygments_lexer": "ipython3",
   "version": "3.8.5-final"
  },
  "orig_nbformat": 2,
  "kernelspec": {
   "name": "python3",
   "display_name": "Python 3.8.5 32-bit",
   "metadata": {
    "interpreter": {
     "hash": "6fa8c4a0213b3e8e46e64ca221d4ef2f7254b1e53b83d6209b624a99d7aa7db4"
    }
   }
  }
 },
 "nbformat": 4,
 "nbformat_minor": 2,
 "cells": [
  {
   "source": [
    "import TableTypes as TT\n",
    "import math\n",
    "import dataclasses as DC\n",
    "import jupyter as JP\n",
    "\n",
    "class BinaryAlogrithms:\n",
    "    def __init__(self, M: int, table: TT.BinaryTable):\n",
    "        \"\"\"\n",
    "            O(n) Initialize variables for work with tables and efficiency algorithms\n",
    "        \"\"\"\n",
    "        self.table = table\n",
    "        self.M = M\n",
    "        self.C = TT.Matrix(table.label.height, 1, table.label.getVertex(-1, 0))\n",
    "        self.P = TT.Matrix(table.label.height, 1, table.label.getVertex(-1, 1))\n",
    "        self.Csum = self.C.sumVertex(0, -1)\n",
    "        self.Psum = self.P.sumVertex(0, -1)\n",
    "        \n",
    "        data0, data1, data2 = [], [], []\n",
    "        maxM = [self.M / self.C.matrix[0][0], 0]\n",
    "        for i in range(self.table.height):\n",
    "            data0.append(math.floor(self.M / self.C.matrix[0][i]))\n",
    "            data1.append(data0[i])\n",
    "            data2.append(math.floor(self.M / self.Csum))\n",
    "\n",
    "            if i != 0:\n",
    "                if data1[i] * self.P.matrix[0][i] > maxM[0] * self.P.matrix[0][maxM[1]]:\n",
    "                    data1[maxM[1]] = 0\n",
    "                    maxM = [self.M / data1[i], i]\n",
    "                else:\n",
    "                    data1[i] = 0\n",
    "        \n",
    "        self.maxM = maxM\n",
    "        self.Λ_max = table.Coef(data0)\n",
    "        self.Λ_D = table.Coef(data1)\n",
    "        self.Λ = table.Coef(data2)"
   ],
   "cell_type": "code",
   "metadata": {},
   "execution_count": 8,
   "outputs": []
  },
  {
   "cell_type": "code",
   "execution_count": 1,
   "metadata": {},
   "outputs": [],
   "source": [
    "import modulefinder\n"
   ]
  }
 ]
}